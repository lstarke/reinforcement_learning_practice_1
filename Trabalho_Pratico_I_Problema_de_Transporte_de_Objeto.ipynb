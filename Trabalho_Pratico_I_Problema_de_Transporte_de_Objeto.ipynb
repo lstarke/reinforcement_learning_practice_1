{
  "nbformat": 4,
  "nbformat_minor": 0,
  "metadata": {
    "colab": {
      "name": "Trabalho Pratico I - Problema de Transporte de Objeto.ipynb",
      "provenance": [],
      "authorship_tag": "ABX9TyPmlT9nAioEkK82g0rcTcBw",
      "include_colab_link": true
    },
    "kernelspec": {
      "name": "python3",
      "display_name": "Python 3"
    },
    "language_info": {
      "name": "python"
    }
  },
  "cells": [
    {
      "cell_type": "markdown",
      "metadata": {
        "id": "view-in-github",
        "colab_type": "text"
      },
      "source": [
        "<a href=\"https://colab.research.google.com/github/lstarke/reinforcement_learning_practice_1/blob/main/Trabalho_Pratico_I_Problema_de_Transporte_de_Objeto.ipynb\" target=\"_parent\"><img src=\"https://colab.research.google.com/assets/colab-badge.svg\" alt=\"Open In Colab\"/></a>"
      ]
    },
    {
      "cell_type": "code",
      "metadata": {
        "id": "oKEZ5c7WmJsu"
      },
      "source": [
        "import numpy as np\n",
        "import pdb\n",
        "import matplotlib.pyplot as plt\n",
        "import time\n",
        "%matplotlib inline"
      ],
      "execution_count": 19,
      "outputs": []
    },
    {
      "cell_type": "code",
      "metadata": {
        "id": "2iPsL_WGk7d-"
      },
      "source": [
        "class Mundo():\n",
        "\n",
        "  PAREDE = -1\n",
        "  BASE   = 1\n",
        "  OBJETO = 2\n",
        "  AGENTE = 3\n",
        "\n",
        "  def __init__(self):  \n",
        "\n",
        "    # definindo tamanho do mundo\n",
        "    self.num_linhas = 6\n",
        "    self.num_colunas = 7\n",
        "    # matriz com valor -1 em cada célula, este é o valor da recompensa \n",
        "    # que o agente recebe ao caminhar pelo mundo.\n",
        "    self.matriz = np.zeros((6, 7)) -1\n",
        "\n",
        "    # definido posições iniciais do agente, base, objeto e paredes\n",
        "    self.pos_agente = (5, 0)\n",
        "    self.pos_base = [(0, 2), (0, 3), (0, 4)]\n",
        "    self.pos_objeto = (2, 3)\n",
        "    self.pos_paredes = [(4, 0), (4, 1), (4, 3), (4, 4), (4, 5), (4, 6), (5, 6), (1, 3)] # estados não válidos\n",
        "    \n",
        "    # definindo as recompensas\n",
        "    # quando consegue chegar a uma célula base recebe 5 de recompensa\n",
        "    # celulas ao lado do objeto receberam 1 de recompensa\n",
        "    # \n",
        "    # em testes realizados usando pontuação igual tando para células de base\n",
        "    # como em células que estão do lado do objeto o agente ficava encalhado\n",
        "    # sendo assim, deixei uma recompensa menor para o objeto e maior para a base\n",
        "    #\n",
        "    self.matriz[self.pos_base[0][0], self.pos_base[0][1]] = 5\n",
        "    self.matriz[self.pos_base[1][0], self.pos_base[1][1]] = 5\n",
        "    self.matriz[self.pos_base[2][0], self.pos_base[2][1]] = 5\n",
        "    self.matriz[2, 2] = 1 # recompensa maior para as celulas ao lado do objeto\n",
        "    self.matriz[2, 4] = 1 # recompensa maior para as celulas ao lado do objeto\n",
        "\n",
        "    # definindo as ações do agente que o agente pode executar\n",
        "    self.acoes = ['SUBIR', 'DESCER', 'DIREITA', 'ESQUERDA']\n",
        "\n",
        "  def executa_passo(self, acao):\n",
        "\n",
        "    ultima_pos_agente = self.pos_agente\n",
        "    \n",
        "    # executa a movimentação\n",
        "    # caso o agente está nas extremidades ou encontra uma parede ele \n",
        "    # permanece no mesmo lugar.  \n",
        "    if acao == 'SUBIR':\n",
        "      if ultima_pos_agente[0] == 0 or self.is_parede((ultima_pos_agente[0]-1, ultima_pos_agente[1])):\n",
        "        recompensa = self.busca_recompensa(ultima_pos_agente)\n",
        "      else:\n",
        "        self.pos_agente = (self.pos_agente[0]-1, self.pos_agente[1])\n",
        "        recompensa = self.busca_recompensa(self.pos_agente)\n",
        "    elif acao == 'DESCER':\n",
        "      if ultima_pos_agente[0] == self.num_linhas-1 or self.is_parede((ultima_pos_agente[0]+1, ultima_pos_agente[1])):\n",
        "        recompensa = self.busca_recompensa(ultima_pos_agente)\n",
        "      else:\n",
        "        self.pos_agente = (self.pos_agente[0]+1, self.pos_agente[1])\n",
        "        recompensa = self.busca_recompensa(self.pos_agente)\n",
        "    elif acao == 'DIREITA':\n",
        "      if ultima_pos_agente[1] == self.num_colunas-1 or self.is_parede((ultima_pos_agente[0], ultima_pos_agente[1]+1)):\n",
        "        recompensa = self.busca_recompensa(ultima_pos_agente)\n",
        "      else:\n",
        "        self.pos_agente = (self.pos_agente[0], self.pos_agente[1]+1)\n",
        "        recompensa = self.busca_recompensa(self.pos_agente)\n",
        "    elif acao == 'ESQUERDA':\n",
        "      if ultima_pos_agente[1] == 0 or self.is_parede((ultima_pos_agente[0], ultima_pos_agente[1]-1)):\n",
        "        recompensa = self.busca_recompensa(ultima_pos_agente)\n",
        "      else:\n",
        "        self.pos_agente = (self.pos_agente[0], self.pos_agente[1]-1)\n",
        "        recompensa = self.busca_recompensa(self.pos_agente)\n",
        "\n",
        "    return recompensa\n",
        "\n",
        "  def busca_recompensa(self, posicao):\n",
        "    return self.matriz[posicao[0], posicao[1]]\n",
        "\n",
        "  def is_estado_terminal(self):\n",
        "    if self.pos_agente in self.pos_base:\n",
        "      return True\n",
        "    return False\n",
        "\n",
        "  def is_parede(self, posicao):\n",
        "    if posicao in self.pos_paredes:\n",
        "      return True\n",
        "    return False      \n",
        "\n",
        "  def imprime_mundo(self):\n",
        "    mundo = self.matriz = np.zeros((6, 7))\n",
        "    mundo[self.pos_agente[0], self.pos_agente[1]] = self.AGENTE\n",
        "    mundo[self.pos_base[0], self.pos_base[1]] = self.BASE\n",
        "    mundo[self.pos_objeto[0], self.pos_objeto[1]] = self.OBJETO\n",
        "    for pos_parede in self.pos_paredes:\n",
        "      mundo[pos_parede[0], pos_parede[1]] = self.PAREDE\n",
        "    print(self.matriz)"
      ],
      "execution_count": 20,
      "outputs": []
    },
    {
      "cell_type": "code",
      "metadata": {
        "id": "F-P9ZF4kjtfW"
      },
      "source": [
        "class Agente():\n",
        "\n",
        "  def __init__(self, mundo, epsilon=0.1, alpha=0.1, gamma=0.9):\n",
        "    self.mundo = mundo\n",
        "    self.epsilon = epsilon\n",
        "    self.alpha = alpha\n",
        "    self.gamma = gamma\n",
        "    self.pegou_objeto = False\n",
        "    self.q_valores = dict() \n",
        "    # montagem de um dicionário com os q valores calculádos.     \n",
        "    for linha in range(mundo.num_linhas):\n",
        "      for coluna in range(mundo.num_colunas):\n",
        "        self.q_valores[(linha, coluna)] = {'SUBIR':0, 'DESCER':0, 'DIREITA':0, 'ESQUERDA':0}\n",
        "\n",
        "  # função que define a ação que o agente irá executar,\n",
        "  # fazendo um balanceamento entre exploração e aproveitamento.\n",
        "  def escolhe_acao(self, acoes):    \n",
        "    if np.random.uniform(low=0, high=1) < self.epsilon:\n",
        "      acao = acoes[np.random.randint(0, len(acoes))]\n",
        "    else:\n",
        "      q_valores_estado = self.q_valores[self.mundo.pos_agente]\n",
        "      #print(f'q valores: {q_valores_estado}')\n",
        "      maior_valor = max(q_valores_estado.values())\n",
        "      acao = np.random.choice([k for k, v in q_valores_estado.items() if v == maior_valor])\n",
        "    return acao\n",
        "\n",
        "  # o objeto só pode ser agarrado pela sua direta ou esquerda\n",
        "  def agarrar_objeto(self):\n",
        "    if not self.pegou_objeto:\n",
        "      if self.mundo.pos_agente[0] == self.mundo.pos_objeto[0] and self.mundo.pos_agente[1]+1 == self.mundo.pos_objeto[1] or \\\n",
        "         self.mundo.pos_agente[0] == self.mundo.pos_objeto[0] and self.mundo.pos_agente[1]-1 == self.mundo.pos_objeto[1]: \n",
        "         self.pegou_objeto = True\n",
        "         #print('### Pegou o objeto ###')\n",
        "\n",
        "  # atualizando valores da taxa de aprendizagem\n",
        "  # conforme agente interage com o ambiente\n",
        "  def atualiza_q_valores(self, estado_anterior, recompensa, estado_novo, acao):\n",
        "    q_valores_estado = self.q_valores[estado_novo]\n",
        "    maior_q_valor_estado_novo = max(q_valores_estado.values())\n",
        "    q_valor_atual = self.q_valores[estado_anterior][acao]\n",
        "    self.q_valores[estado_anterior][acao] = (1 - self.alpha) * q_valor_atual + self.alpha * (recompensa + self.gamma * maior_q_valor_estado_novo)\n",
        "    #print(f'q valores atualizados: {self.q_valores[estado_anterior]}')"
      ],
      "execution_count": 21,
      "outputs": []
    },
    {
      "cell_type": "markdown",
      "metadata": {
        "id": "C2EsfWvg1dTn"
      },
      "source": [
        "###Implementação Q-learning\n",
        "\n",
        "![](https://leimao.github.io/images/blog/2019-03-14-RL-On-Policy-VS-Off-Policy/q-learning.png)"
      ]
    },
    {
      "cell_type": "code",
      "metadata": {
        "id": "n13aU2whtivi"
      },
      "source": [
        "def play(mundo, agente, num_tentativas=100, num_passos_por_episodio=500, verbose=False):\n",
        "\n",
        "  recompensa_por_episodio = []\n",
        "  \n",
        "  for tentativa in range(num_tentativas):\n",
        "\n",
        "    recompensa_acumulada = 0\n",
        "    passo = 0\n",
        "    fim_de_jogo = False\n",
        "\n",
        "    tempo_inicio = time.time()      \n",
        "    while passo < num_passos_por_episodio and fim_de_jogo != True:      \n",
        "\n",
        "      estado_atual = mundo.pos_agente      \n",
        "      acao = agente.escolhe_acao(mundo.acoes)     \n",
        "      recompensa = mundo.executa_passo(acao)      \n",
        "      estado_novo = mundo.pos_agente  \n",
        "      agente.agarrar_objeto()  \n",
        "      agente.atualiza_q_valores(estado_atual, recompensa, estado_novo, acao)\n",
        "      recompensa_acumulada += recompensa\n",
        "      passo += 1\n",
        "\n",
        "      if verbose:\n",
        "        print(f'Saiu de {estado_atual} andou para {acao} e está em {estado_novo}. Recompensa: {recompensa}')\n",
        "        print('#'*100)\n",
        "\n",
        "      if mundo.is_estado_terminal() and agente.pegou_objeto == True:\n",
        "        mundo.__init__()\n",
        "        fim_de_jogo = True\n",
        "        print(f'Fim. Chegou na Base com o objeto.\\tTentativa: {tentativa},\\tQtde passos: {passo}. \\tTempo de execução: {(time.time() - tempo_inicio)} segundos')\n",
        "\n",
        "    if verbose:\n",
        "      if not fim_de_jogo:\n",
        "        print('#'*50)\n",
        "        print('Fim. Alcançou o número de episódios.')\n",
        "        print('#'*50)\n",
        "\n",
        "    recompensa_por_episodio.append(recompensa_acumulada)\n",
        "\n",
        "  return recompensa_por_episodio"
      ],
      "execution_count": 24,
      "outputs": []
    },
    {
      "cell_type": "markdown",
      "metadata": {
        "id": "Wta-brYu2s1e"
      },
      "source": [
        "### Execução"
      ]
    },
    {
      "cell_type": "code",
      "metadata": {
        "colab": {
          "base_uri": "https://localhost:8080/",
          "height": 1000
        },
        "id": "wrzkkYsI0uMF",
        "outputId": "ed3b8cfe-cce3-42e6-e10a-75969c3f2e6d"
      },
      "source": [
        "mundo = Mundo()\n",
        "agente = Agente(mundo)\n",
        "recompensa_por_episodio = play(mundo, agente, verbose=False)\n",
        "plt.plot(recompensa_por_episodio)"
      ],
      "execution_count": 25,
      "outputs": [
        {
          "output_type": "stream",
          "text": [
            "Fim. Chegou na Base com o objeto.\tTentativa: 0,\tQtde passos: 60. \tTempo de execução: 0.004899501800537109 segundos\n",
            "Fim. Chegou na Base com o objeto.\tTentativa: 1,\tQtde passos: 54. \tTempo de execução: 0.002370595932006836 segundos\n",
            "Fim. Chegou na Base com o objeto.\tTentativa: 2,\tQtde passos: 66. \tTempo de execução: 0.0038013458251953125 segundos\n",
            "Fim. Chegou na Base com o objeto.\tTentativa: 3,\tQtde passos: 32. \tTempo de execução: 0.00072479248046875 segundos\n",
            "Fim. Chegou na Base com o objeto.\tTentativa: 4,\tQtde passos: 31. \tTempo de execução: 0.0006868839263916016 segundos\n",
            "Fim. Chegou na Base com o objeto.\tTentativa: 5,\tQtde passos: 21. \tTempo de execução: 0.0004968643188476562 segundos\n",
            "Fim. Chegou na Base com o objeto.\tTentativa: 6,\tQtde passos: 29. \tTempo de execução: 0.0007424354553222656 segundos\n",
            "Fim. Chegou na Base com o objeto.\tTentativa: 7,\tQtde passos: 36. \tTempo de execução: 0.0011169910430908203 segundos\n",
            "Fim. Chegou na Base com o objeto.\tTentativa: 8,\tQtde passos: 27. \tTempo de execução: 0.0005805492401123047 segundos\n",
            "Fim. Chegou na Base com o objeto.\tTentativa: 9,\tQtde passos: 30. \tTempo de execução: 0.0007300376892089844 segundos\n",
            "Fim. Chegou na Base com o objeto.\tTentativa: 10,\tQtde passos: 29. \tTempo de execução: 0.0006909370422363281 segundos\n",
            "Fim. Chegou na Base com o objeto.\tTentativa: 11,\tQtde passos: 16. \tTempo de execução: 0.0003437995910644531 segundos\n",
            "Fim. Chegou na Base com o objeto.\tTentativa: 12,\tQtde passos: 29. \tTempo de execução: 0.0006709098815917969 segundos\n",
            "Fim. Chegou na Base com o objeto.\tTentativa: 13,\tQtde passos: 12. \tTempo de execução: 0.000286102294921875 segundos\n",
            "Fim. Chegou na Base com o objeto.\tTentativa: 14,\tQtde passos: 20. \tTempo de execução: 0.0005056858062744141 segundos\n",
            "Fim. Chegou na Base com o objeto.\tTentativa: 15,\tQtde passos: 20. \tTempo de execução: 0.00047206878662109375 segundos\n",
            "Fim. Chegou na Base com o objeto.\tTentativa: 16,\tQtde passos: 12. \tTempo de execução: 0.0003638267517089844 segundos\n",
            "Fim. Chegou na Base com o objeto.\tTentativa: 17,\tQtde passos: 19. \tTempo de execução: 0.00046563148498535156 segundos\n",
            "Fim. Chegou na Base com o objeto.\tTentativa: 18,\tQtde passos: 16. \tTempo de execução: 0.0004432201385498047 segundos\n",
            "Fim. Chegou na Base com o objeto.\tTentativa: 19,\tQtde passos: 7. \tTempo de execução: 0.00017571449279785156 segundos\n",
            "Fim. Chegou na Base com o objeto.\tTentativa: 20,\tQtde passos: 11. \tTempo de execução: 0.0002474784851074219 segundos\n",
            "Fim. Chegou na Base com o objeto.\tTentativa: 21,\tQtde passos: 24. \tTempo de execução: 0.0006639957427978516 segundos\n",
            "Fim. Chegou na Base com o objeto.\tTentativa: 22,\tQtde passos: 12. \tTempo de execução: 0.0002758502960205078 segundos\n",
            "Fim. Chegou na Base com o objeto.\tTentativa: 23,\tQtde passos: 7. \tTempo de execução: 0.00016355514526367188 segundos\n",
            "Fim. Chegou na Base com o objeto.\tTentativa: 24,\tQtde passos: 8. \tTempo de execução: 0.00021791458129882812 segundos\n",
            "Fim. Chegou na Base com o objeto.\tTentativa: 25,\tQtde passos: 10. \tTempo de execução: 0.000263214111328125 segundos\n",
            "Fim. Chegou na Base com o objeto.\tTentativa: 26,\tQtde passos: 8. \tTempo de execução: 0.0001964569091796875 segundos\n",
            "Fim. Chegou na Base com o objeto.\tTentativa: 27,\tQtde passos: 11. \tTempo de execução: 0.00026154518127441406 segundos\n",
            "Fim. Chegou na Base com o objeto.\tTentativa: 28,\tQtde passos: 8. \tTempo de execução: 0.0002110004425048828 segundos\n",
            "Fim. Chegou na Base com o objeto.\tTentativa: 29,\tQtde passos: 7. \tTempo de execução: 0.0002167224884033203 segundos\n",
            "Fim. Chegou na Base com o objeto.\tTentativa: 30,\tQtde passos: 7. \tTempo de execução: 0.00017571449279785156 segundos\n",
            "Fim. Chegou na Base com o objeto.\tTentativa: 31,\tQtde passos: 7. \tTempo de execução: 0.00018930435180664062 segundos\n",
            "Fim. Chegou na Base com o objeto.\tTentativa: 32,\tQtde passos: 10. \tTempo de execução: 0.00023651123046875 segundos\n",
            "Fim. Chegou na Base com o objeto.\tTentativa: 33,\tQtde passos: 7. \tTempo de execução: 0.00016045570373535156 segundos\n",
            "Fim. Chegou na Base com o objeto.\tTentativa: 34,\tQtde passos: 11. \tTempo de execução: 0.000278472900390625 segundos\n",
            "Fim. Chegou na Base com o objeto.\tTentativa: 35,\tQtde passos: 7. \tTempo de execução: 0.00018286705017089844 segundos\n",
            "Fim. Chegou na Base com o objeto.\tTentativa: 36,\tQtde passos: 7. \tTempo de execução: 0.0001995563507080078 segundos\n",
            "Fim. Chegou na Base com o objeto.\tTentativa: 37,\tQtde passos: 11. \tTempo de execução: 0.00027871131896972656 segundos\n",
            "Fim. Chegou na Base com o objeto.\tTentativa: 38,\tQtde passos: 8. \tTempo de execução: 0.0002086162567138672 segundos\n",
            "Fim. Chegou na Base com o objeto.\tTentativa: 39,\tQtde passos: 9. \tTempo de execução: 0.00020742416381835938 segundos\n",
            "Fim. Chegou na Base com o objeto.\tTentativa: 40,\tQtde passos: 7. \tTempo de execução: 0.00021314620971679688 segundos\n",
            "Fim. Chegou na Base com o objeto.\tTentativa: 41,\tQtde passos: 7. \tTempo de execução: 0.00016379356384277344 segundos\n",
            "Fim. Chegou na Base com o objeto.\tTentativa: 42,\tQtde passos: 7. \tTempo de execução: 0.0001914501190185547 segundos\n",
            "Fim. Chegou na Base com o objeto.\tTentativa: 43,\tQtde passos: 7. \tTempo de execução: 0.00018644332885742188 segundos\n",
            "Fim. Chegou na Base com o objeto.\tTentativa: 44,\tQtde passos: 7. \tTempo de execução: 0.00017189979553222656 segundos\n",
            "Fim. Chegou na Base com o objeto.\tTentativa: 45,\tQtde passos: 7. \tTempo de execução: 0.0001919269561767578 segundos\n",
            "Fim. Chegou na Base com o objeto.\tTentativa: 46,\tQtde passos: 9. \tTempo de execução: 0.00020456314086914062 segundos\n",
            "Fim. Chegou na Base com o objeto.\tTentativa: 47,\tQtde passos: 7. \tTempo de execução: 0.0002009868621826172 segundos\n",
            "Fim. Chegou na Base com o objeto.\tTentativa: 48,\tQtde passos: 8. \tTempo de execução: 0.0002357959747314453 segundos\n",
            "Fim. Chegou na Base com o objeto.\tTentativa: 49,\tQtde passos: 9. \tTempo de execução: 0.00021505355834960938 segundos\n",
            "Fim. Chegou na Base com o objeto.\tTentativa: 50,\tQtde passos: 7. \tTempo de execução: 0.00024580955505371094 segundos\n",
            "Fim. Chegou na Base com o objeto.\tTentativa: 51,\tQtde passos: 7. \tTempo de execução: 0.0002315044403076172 segundos\n",
            "Fim. Chegou na Base com o objeto.\tTentativa: 52,\tQtde passos: 8. \tTempo de execução: 0.0001919269561767578 segundos\n",
            "Fim. Chegou na Base com o objeto.\tTentativa: 53,\tQtde passos: 7. \tTempo de execução: 0.0001647472381591797 segundos\n",
            "Fim. Chegou na Base com o objeto.\tTentativa: 54,\tQtde passos: 7. \tTempo de execução: 0.00017523765563964844 segundos\n",
            "Fim. Chegou na Base com o objeto.\tTentativa: 55,\tQtde passos: 7. \tTempo de execução: 0.00017070770263671875 segundos\n",
            "Fim. Chegou na Base com o objeto.\tTentativa: 56,\tQtde passos: 8. \tTempo de execução: 0.00019359588623046875 segundos\n",
            "Fim. Chegou na Base com o objeto.\tTentativa: 57,\tQtde passos: 7. \tTempo de execução: 0.0001633167266845703 segundos\n",
            "Fim. Chegou na Base com o objeto.\tTentativa: 58,\tQtde passos: 10. \tTempo de execução: 0.00021457672119140625 segundos\n",
            "Fim. Chegou na Base com o objeto.\tTentativa: 59,\tQtde passos: 7. \tTempo de execução: 0.00017142295837402344 segundos\n",
            "Fim. Chegou na Base com o objeto.\tTentativa: 60,\tQtde passos: 17. \tTempo de execução: 0.0004105567932128906 segundos\n",
            "Fim. Chegou na Base com o objeto.\tTentativa: 61,\tQtde passos: 11. \tTempo de execução: 0.0002238750457763672 segundos\n",
            "Fim. Chegou na Base com o objeto.\tTentativa: 62,\tQtde passos: 7. \tTempo de execução: 0.00022125244140625 segundos\n",
            "Fim. Chegou na Base com o objeto.\tTentativa: 63,\tQtde passos: 7. \tTempo de execução: 0.00017952919006347656 segundos\n",
            "Fim. Chegou na Base com o objeto.\tTentativa: 64,\tQtde passos: 10. \tTempo de execução: 0.0002346038818359375 segundos\n",
            "Fim. Chegou na Base com o objeto.\tTentativa: 65,\tQtde passos: 7. \tTempo de execução: 0.00018644332885742188 segundos\n",
            "Fim. Chegou na Base com o objeto.\tTentativa: 66,\tQtde passos: 11. \tTempo de execução: 0.0003364086151123047 segundos\n",
            "Fim. Chegou na Base com o objeto.\tTentativa: 67,\tQtde passos: 8. \tTempo de execução: 0.00019979476928710938 segundos\n",
            "Fim. Chegou na Base com o objeto.\tTentativa: 68,\tQtde passos: 7. \tTempo de execução: 0.00019049644470214844 segundos\n",
            "Fim. Chegou na Base com o objeto.\tTentativa: 69,\tQtde passos: 7. \tTempo de execução: 0.00017261505126953125 segundos\n",
            "Fim. Chegou na Base com o objeto.\tTentativa: 70,\tQtde passos: 7. \tTempo de execução: 0.00025463104248046875 segundos\n",
            "Fim. Chegou na Base com o objeto.\tTentativa: 71,\tQtde passos: 12. \tTempo de execução: 0.0003712177276611328 segundos\n",
            "Fim. Chegou na Base com o objeto.\tTentativa: 72,\tQtde passos: 8. \tTempo de execução: 0.00018715858459472656 segundos\n",
            "Fim. Chegou na Base com o objeto.\tTentativa: 73,\tQtde passos: 10. \tTempo de execução: 0.00022554397583007812 segundos\n",
            "Fim. Chegou na Base com o objeto.\tTentativa: 74,\tQtde passos: 7. \tTempo de execução: 0.0002570152282714844 segundos\n",
            "Fim. Chegou na Base com o objeto.\tTentativa: 75,\tQtde passos: 7. \tTempo de execução: 0.00018024444580078125 segundos\n",
            "Fim. Chegou na Base com o objeto.\tTentativa: 76,\tQtde passos: 7. \tTempo de execução: 0.00018715858459472656 segundos\n",
            "Fim. Chegou na Base com o objeto.\tTentativa: 77,\tQtde passos: 8. \tTempo de execução: 0.00020360946655273438 segundos\n",
            "Fim. Chegou na Base com o objeto.\tTentativa: 78,\tQtde passos: 7. \tTempo de execução: 0.00016808509826660156 segundos\n",
            "Fim. Chegou na Base com o objeto.\tTentativa: 79,\tQtde passos: 7. \tTempo de execução: 0.0002810955047607422 segundos\n",
            "Fim. Chegou na Base com o objeto.\tTentativa: 80,\tQtde passos: 7. \tTempo de execução: 0.00020051002502441406 segundos\n",
            "Fim. Chegou na Base com o objeto.\tTentativa: 81,\tQtde passos: 14. \tTempo de execução: 0.0003833770751953125 segundos\n",
            "Fim. Chegou na Base com o objeto.\tTentativa: 82,\tQtde passos: 9. \tTempo de execução: 0.00020551681518554688 segundos\n",
            "Fim. Chegou na Base com o objeto.\tTentativa: 83,\tQtde passos: 7. \tTempo de execução: 0.00016379356384277344 segundos\n",
            "Fim. Chegou na Base com o objeto.\tTentativa: 84,\tQtde passos: 7. \tTempo de execução: 0.0002186298370361328 segundos\n",
            "Fim. Chegou na Base com o objeto.\tTentativa: 85,\tQtde passos: 7. \tTempo de execução: 0.00019860267639160156 segundos\n",
            "Fim. Chegou na Base com o objeto.\tTentativa: 86,\tQtde passos: 7. \tTempo de execução: 0.00020575523376464844 segundos\n",
            "Fim. Chegou na Base com o objeto.\tTentativa: 87,\tQtde passos: 7. \tTempo de execução: 0.0003960132598876953 segundos\n",
            "Fim. Chegou na Base com o objeto.\tTentativa: 88,\tQtde passos: 7. \tTempo de execução: 0.0001971721649169922 segundos\n",
            "Fim. Chegou na Base com o objeto.\tTentativa: 89,\tQtde passos: 7. \tTempo de execução: 0.00017714500427246094 segundos\n",
            "Fim. Chegou na Base com o objeto.\tTentativa: 90,\tQtde passos: 7. \tTempo de execução: 0.00022101402282714844 segundos\n",
            "Fim. Chegou na Base com o objeto.\tTentativa: 91,\tQtde passos: 11. \tTempo de execução: 0.0003428459167480469 segundos\n",
            "Fim. Chegou na Base com o objeto.\tTentativa: 92,\tQtde passos: 7. \tTempo de execução: 0.0001811981201171875 segundos\n",
            "Fim. Chegou na Base com o objeto.\tTentativa: 93,\tQtde passos: 15. \tTempo de execução: 0.0003712177276611328 segundos\n",
            "Fim. Chegou na Base com o objeto.\tTentativa: 94,\tQtde passos: 7. \tTempo de execução: 0.000171661376953125 segundos\n",
            "Fim. Chegou na Base com o objeto.\tTentativa: 95,\tQtde passos: 9. \tTempo de execução: 0.00022077560424804688 segundos\n",
            "Fim. Chegou na Base com o objeto.\tTentativa: 96,\tQtde passos: 7. \tTempo de execução: 0.0001614093780517578 segundos\n",
            "Fim. Chegou na Base com o objeto.\tTentativa: 97,\tQtde passos: 7. \tTempo de execução: 0.0002257823944091797 segundos\n",
            "Fim. Chegou na Base com o objeto.\tTentativa: 98,\tQtde passos: 8. \tTempo de execução: 0.0002014636993408203 segundos\n",
            "Fim. Chegou na Base com o objeto.\tTentativa: 99,\tQtde passos: 7. \tTempo de execução: 0.00017690658569335938 segundos\n"
          ],
          "name": "stdout"
        },
        {
          "output_type": "execute_result",
          "data": {
            "text/plain": [
              "[<matplotlib.lines.Line2D at 0x7fef4eda1790>]"
            ]
          },
          "metadata": {
            "tags": []
          },
          "execution_count": 25
        },
        {
          "output_type": "display_data",
          "data": {
            "image/png": "[encoded data removed]",
            "text/plain": [
              "<Figure size 432x288 with 1 Axes>"
            ]
          },
          "metadata": {
            "tags": [],
            "needs_background": "light"
          }
        }
      ]
    },
    {
      "cell_type": "markdown",
      "metadata": {
        "id": "QtI52bpwrPg0"
      },
      "source": [
        "### Política"
      ]
    },
    {
      "cell_type": "code",
      "metadata": {
        "colab": {
          "base_uri": "https://localhost:8080/"
        },
        "id": "icSvGj2F0tzY",
        "outputId": "6fbd38c0-89bc-49fe-8802-410f9e23a257"
      },
      "source": [
        "import pprint\n",
        "pprint.pprint(agente.q_valores)"
      ],
      "execution_count": 26,
      "outputs": [
        {
          "output_type": "stream",
          "text": [
            "{(0, 0): {'DESCER': -0.1, 'DIREITA': -0.1, 'ESQUERDA': 0, 'SUBIR': 0},\n",
            " (0, 1): {'DESCER': -0.10900000000000001,\n",
            "          'DIREITA': 0,\n",
            "          'ESQUERDA': -0.1,\n",
            "          'SUBIR': -0.1},\n",
            " (0, 2): {'DESCER': 0, 'DIREITA': 0, 'ESQUERDA': 0, 'SUBIR': 0},\n",
            " (0, 3): {'DESCER': 0, 'DIREITA': 0, 'ESQUERDA': 0, 'SUBIR': 0},\n",
            " (0, 4): {'DESCER': 0, 'DIREITA': 0, 'ESQUERDA': 0, 'SUBIR': 0},\n",
            " (0, 5): {'DESCER': 0, 'DIREITA': -0.1, 'ESQUERDA': 0.5, 'SUBIR': -0.1},\n",
            " (0, 6): {'DESCER': -0.1, 'DIREITA': 0, 'ESQUERDA': -0.1, 'SUBIR': -0.1},\n",
            " (1, 0): {'DESCER': -0.1, 'DIREITA': -0.1, 'ESQUERDA': -0.1, 'SUBIR': -0.1},\n",
            " (1, 1): {'DESCER': 0.22515883142319934,\n",
            "          'DIREITA': -0.1,\n",
            "          'ESQUERDA': -0.1,\n",
            "          'SUBIR': -0.1},\n",
            " (1, 2): {'DESCER': 0.24343301484950503,\n",
            "          'DIREITA': 0.259101494850043,\n",
            "          'ESQUERDA': -0.4062748642945606,\n",
            "          'SUBIR': 4.999852436672848},\n",
            " (1, 3): {'DESCER': 0, 'DIREITA': 0, 'ESQUERDA': 0, 'SUBIR': 0},\n",
            " (1, 4): {'DESCER': 0, 'DIREITA': 0, 'ESQUERDA': 0, 'SUBIR': 0},\n",
            " (1, 5): {'DESCER': 0, 'DIREITA': -0.1, 'ESQUERDA': 0, 'SUBIR': -0.1},\n",
            " (1, 6): {'DESCER': 0, 'DIREITA': 0, 'ESQUERDA': -0.1, 'SUBIR': -0.1},\n",
            " (2, 0): {'DESCER': 0,\n",
            "          'DIREITA': -0.174314341,\n",
            "          'ESQUERDA': -0.1,\n",
            "          'SUBIR': -0.1},\n",
            " (2, 1): {'DESCER': 0,\n",
            "          'DIREITA': 2.906331358961844,\n",
            "          'ESQUERDA': -0.1,\n",
            "          'SUBIR': -0.1},\n",
            " (2, 2): {'DESCER': 0.1309451104873646,\n",
            "          'DIREITA': -0.2347542958326445,\n",
            "          'ESQUERDA': 0.19583905132320345,\n",
            "          'SUBIR': 3.498817460388061},\n",
            " (2, 3): {'DESCER': 0,\n",
            "          'DIREITA': 0,\n",
            "          'ESQUERDA': 0.8042808360842304,\n",
            "          'SUBIR': -0.1},\n",
            " (2, 4): {'DESCER': 0, 'DIREITA': 0, 'ESQUERDA': 0, 'SUBIR': 0},\n",
            " (2, 5): {'DESCER': 0, 'DIREITA': 0, 'ESQUERDA': 0, 'SUBIR': -0.1},\n",
            " (2, 6): {'DESCER': 0, 'DIREITA': -0.1, 'ESQUERDA': -0.1, 'SUBIR': 0},\n",
            " (3, 0): {'DESCER': -0.1, 'DIREITA': 0, 'ESQUERDA': 0, 'SUBIR': -0.1},\n",
            " (3, 1): {'DESCER': -0.1,\n",
            "          'DIREITA': 0.26982799819292996,\n",
            "          'ESQUERDA': -0.1,\n",
            "          'SUBIR': -0.009789743184706545},\n",
            " (3, 2): {'DESCER': 0.141221593042749,\n",
            "          'DIREITA': -0.42529051000000007,\n",
            "          'ESQUERDA': -0.271,\n",
            "          'SUBIR': 4.142931195077966},\n",
            " (3, 3): {'DESCER': -0.199,\n",
            "          'DIREITA': -0.19,\n",
            "          'ESQUERDA': 0.17492417191924464,\n",
            "          'SUBIR': -0.13440352841073466},\n",
            " (3, 4): {'DESCER': 0,\n",
            "          'DIREITA': -0.1,\n",
            "          'ESQUERDA': -0.10900000000000001,\n",
            "          'SUBIR': 0},\n",
            " (3, 5): {'DESCER': 0, 'DIREITA': -0.1, 'ESQUERDA': 0, 'SUBIR': 0},\n",
            " (3, 6): {'DESCER': 0, 'DIREITA': 0, 'ESQUERDA': 0, 'SUBIR': -0.1},\n",
            " (4, 0): {'DESCER': 0, 'DIREITA': 0, 'ESQUERDA': 0, 'SUBIR': 0},\n",
            " (4, 1): {'DESCER': 0, 'DIREITA': 0, 'ESQUERDA': 0, 'SUBIR': 0},\n",
            " (4, 2): {'DESCER': -0.6164139442310133,\n",
            "          'DIREITA': -0.21434687419519144,\n",
            "          'ESQUERDA': -0.21446685701971963,\n",
            "          'SUBIR': 2.7078814488683736},\n",
            " (4, 3): {'DESCER': 0, 'DIREITA': 0, 'ESQUERDA': 0, 'SUBIR': 0},\n",
            " (4, 4): {'DESCER': 0, 'DIREITA': 0, 'ESQUERDA': 0, 'SUBIR': 0},\n",
            " (4, 5): {'DESCER': 0, 'DIREITA': 0, 'ESQUERDA': 0, 'SUBIR': 0},\n",
            " (4, 6): {'DESCER': 0, 'DIREITA': 0, 'ESQUERDA': 0, 'SUBIR': 0},\n",
            " (5, 0): {'DESCER': -2.59548880926694,\n",
            "          'DIREITA': -1.0109232840025462,\n",
            "          'ESQUERDA': -2.667773971898089,\n",
            "          'SUBIR': -2.7600021715632685},\n",
            " (5, 1): {'DESCER': -1.8740788486309647,\n",
            "          'DIREITA': 0.15851903371848192,\n",
            "          'ESQUERDA': -2.2377444160716595,\n",
            "          'SUBIR': -1.9763329421711655},\n",
            " (5, 2): {'DESCER': -1.2247897700103205,\n",
            "          'DIREITA': -1.2638402528373718,\n",
            "          'ESQUERDA': -1.3362652019681356,\n",
            "          'SUBIR': 1.3829707984896311},\n",
            " (5, 3): {'DESCER': -1.2238140439100145,\n",
            "          'DIREITA': -1.2659072966732698,\n",
            "          'ESQUERDA': -1.2939198169508312,\n",
            "          'SUBIR': -1.2164885491024429},\n",
            " (5, 4): {'DESCER': -1.2247897700103205,\n",
            "          'DIREITA': -1.249786171254529,\n",
            "          'ESQUERDA': -1.306441789111875,\n",
            "          'SUBIR': -1.2247897700103205},\n",
            " (5, 5): {'DESCER': -1.2247897700103205,\n",
            "          'DIREITA': -1.2247897700103205,\n",
            "          'ESQUERDA': -1.31063727909404,\n",
            "          'SUBIR': -1.290639867031431},\n",
            " (5, 6): {'DESCER': 0, 'DIREITA': 0, 'ESQUERDA': 0, 'SUBIR': 0}}\n"
          ],
          "name": "stdout"
        }
      ]
    },
    {
      "cell_type": "code",
      "metadata": {
        "id": "GDy7Zd070to-"
      },
      "source": [
        ""
      ],
      "execution_count": null,
      "outputs": []
    },
    {
      "cell_type": "markdown",
      "metadata": {
        "id": "qi--JPdvkYF-"
      },
      "source": [
        "###Referências\n",
        "\n",
        "[Gridworld-with-Q-Learning-Reinforcement-Learning](https://github.com/michaeltinsley/Gridworld-with-Q-Learning-Reinforcement-Learning-)"
      ]
    }
  ]
}